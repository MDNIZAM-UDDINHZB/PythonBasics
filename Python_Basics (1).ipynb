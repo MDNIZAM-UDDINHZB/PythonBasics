{
 "cells": [
  {
   "cell_type": "markdown",
   "id": "629b0a0c-d926-4b9b-992c-215e0957f630",
   "metadata": {},
   "source": [
    "### explain the key features of python that make it a popular choice for programming"
   ]
  },
  {
   "cell_type": "code",
   "execution_count": 3,
   "id": "659cc149-8065-443a-b531-10089c58958e",
   "metadata": {},
   "outputs": [],
   "source": [
    "# Python is a cross-platform language. It can run on Linux, macOS, and Windows. For example, you can run the Python code for Windows in Linux or macOS, too.\n",
    "# Easy to learn and use.\n",
    "# It is a free open-source platform\n",
    "# Python has a large and active community of developers, an extensive standard library, and third-party packages for various domains.\n",
    "# Python are more than 137000 libraries."
   ]
  },
  {
   "cell_type": "code",
   "execution_count": 5,
   "id": "59c141d3-a143-4b3c-ab64-042b363f001c",
   "metadata": {},
   "outputs": [],
   "source": [
    "x = 10 # x is dynamically bound to an integer.\n",
    "y = \"PWSKILLS\" # y is dynamically bound to a string."
   ]
  },
  {
   "cell_type": "markdown",
   "id": "90c7bf65-a907-4fa9-bc0d-b2092a861a84",
   "metadata": {},
   "source": [
    "### Describe the role of predefined keywords in python and provide examples of how they are used in program."
   ]
  },
  {
   "cell_type": "code",
   "execution_count": 12,
   "id": "65e0edcb-6a86-4650-936b-5457427aead0",
   "metadata": {},
   "outputs": [],
   "source": [
    "# Keywords are reserved words in Python that have special meanings and cannot be used as identifiers (variable names, function names, etc.). \n",
    "# Examples of keywords include if,elif, else, while, for, def, class, import, try, except, return, True, False, None, etc.\n",
    "# Keywords are case-sensitive and cannot be redefined or overridden within a Python program.\n"
   ]
  },
  {
   "cell_type": "code",
   "execution_count": 14,
   "id": "56ac2f45-23e4-4de9-b70b-bbbc3eb0d242",
   "metadata": {},
   "outputs": [
    {
     "name": "stdout",
     "output_type": "stream",
     "text": [
      "A is grater than 5\n"
     ]
    }
   ],
   "source": [
    "a=10\n",
    "if a > 5: # here if is a predefined keyword used to check condition.\n",
    "    print(\"A is grater than 5\")"
   ]
  },
  {
   "cell_type": "code",
   "execution_count": 20,
   "id": "5c43448a-3bd0-4d94-88b9-d1119f9e9b24",
   "metadata": {},
   "outputs": [
    {
     "name": "stdout",
     "output_type": "stream",
     "text": [
      "A is less than 5\n"
     ]
    }
   ],
   "source": [
    "a=3\n",
    "if a > 5: # here if is a predefined keyword used to check condition.\n",
    "    print(\"A is grater than 5\")\n",
    "else:\n",
    "    print(\"A is less than 5\") # here else is also a predefined keyword used when if condition is false then else statement execute."
   ]
  },
  {
   "cell_type": "markdown",
   "id": "15ece01a-a277-4ce0-8344-52a7c00b744c",
   "metadata": {},
   "source": [
    "### Compare and contrast mutable and immutable objects in python with example"
   ]
  },
  {
   "cell_type": "code",
   "execution_count": 24,
   "id": "f50b03f8-8b75-40da-90a9-19e971d06dae",
   "metadata": {},
   "outputs": [],
   "source": [
    "# Data type whose values can be changed after creation is called mutable.\n",
    "# example of mutaL is >> list, Dictionaries, Set"
   ]
  },
  {
   "cell_type": "code",
   "execution_count": 26,
   "id": "2dfc5812-81c7-44d0-9c00-8b8c13a7a6fc",
   "metadata": {},
   "outputs": [
    {
     "name": "stdout",
     "output_type": "stream",
     "text": [
      "['Nizam', 'Amit', 'Rahul', 'Mukesh']\n"
     ]
    }
   ],
   "source": [
    "#create a list of student\n",
    "\n",
    "name = ['Nizam', 'Amit', 'Rahul', 'Mukesh']\n",
    "print(name)"
   ]
  },
  {
   "cell_type": "code",
   "execution_count": 28,
   "id": "ec15e668-16b7-4b6b-8175-6b0249014573",
   "metadata": {},
   "outputs": [
    {
     "name": "stdout",
     "output_type": "stream",
     "text": [
      "['Hussain', 'Amit', 'Rahul', 'Mukesh']\n"
     ]
    }
   ],
   "source": [
    "name[0]=\"Hussain\" # Here i can change list by Hussain in place of Nizam,this is example of mutable.\n",
    "print(name)"
   ]
  },
  {
   "cell_type": "code",
   "execution_count": 30,
   "id": "e469b438-ac86-4e79-825c-1d9006f62112",
   "metadata": {},
   "outputs": [],
   "source": [
    "# Data types whose values can’t be changed or altered is called immutable.\n",
    "# example of immutable is >> Strings, Types, Integer"
   ]
  },
  {
   "cell_type": "code",
   "execution_count": 34,
   "id": "17758d61-238b-480d-bf98-0848cfefb07c",
   "metadata": {},
   "outputs": [
    {
     "name": "stdout",
     "output_type": "stream",
     "text": [
      "136\n"
     ]
    }
   ],
   "source": [
    "num=136 \n",
    "mutable.\n",
    "print(num)"
   ]
  },
  {
   "cell_type": "code",
   "execution_count": 36,
   "id": "3fb89441-4024-4405-8c9e-07032e706273",
   "metadata": {},
   "outputs": [
    {
     "ename": "TypeError",
     "evalue": "'int' object does not support item assignment",
     "output_type": "error",
     "traceback": [
      "\u001b[1;31m---------------------------------------------------------------------------\u001b[0m",
      "\u001b[1;31mTypeError\u001b[0m                                 Traceback (most recent call last)",
      "Cell \u001b[1;32mIn[36], line 1\u001b[0m\n\u001b[1;32m----> 1\u001b[0m num[\u001b[38;5;241m0\u001b[39m]\u001b[38;5;241m=\u001b[39m\u001b[38;5;241m2\u001b[39m\n\u001b[0;32m      2\u001b[0m \u001b[38;5;28mprint\u001b[39m(num)\n",
      "\u001b[1;31mTypeError\u001b[0m: 'int' object does not support item assignment"
     ]
    }
   ],
   "source": [
    "num[0]=2 # Here i can not change num by 2 in place of 1,this is example of immutable.\n",
    "print(num)"
   ]
  },
  {
   "cell_type": "markdown",
   "id": "a4e44869-5b8d-4dbc-812c-f1521881f7e4",
   "metadata": {},
   "source": [
    "### Discuss the different types of operators in python and provide examples of how they are used."
   ]
  },
  {
   "cell_type": "code",
   "execution_count": 39,
   "id": "327faa1f-4960-476c-b29d-888892c1aa29",
   "metadata": {},
   "outputs": [],
   "source": [
    "# Operators are special symbols or keywords that are used to carry out specific actions on numbers or variables in Python expressions. \n",
    "# Python supports various types of operators, including arithmetic operators (+, -, *, /), comparison operators (==, !=, <, >), logical operators (and, or, not), assignment operators (=, +=, -=, *=, /=), etc.\n",
    "# Operators have precedence and associativity rules that determine the order of evaluation in expressions.\n"
   ]
  },
  {
   "cell_type": "code",
   "execution_count": 41,
   "id": "f047fa70-ba55-40ba-ad31-e221a51f880f",
   "metadata": {},
   "outputs": [],
   "source": [
    "# arithmetic operators >> \n",
    "# Mathematical operations including addition, subtraction, multiplication, and division are commonly carried out using Python arithmetic operators.\n",
    "# They are compatible with integers, variables, and expressions.\n",
    "# In addition to the standard arithmetic operators, there are operators for modulus, exponentiation, and floor division."
   ]
  },
  {
   "cell_type": "code",
   "execution_count": 43,
   "id": "7a70d7e3-9139-424e-89e4-e2ff12e92595",
   "metadata": {},
   "outputs": [
    {
     "name": "stdout",
     "output_type": "stream",
     "text": [
      "a + b :  31\n",
      "a - b :  11\n",
      "a * b :  210\n",
      "a / b :  2.1\n",
      "a % b :  1\n",
      "a ** b :  16679880978201\n",
      "a // b :  2\n"
     ]
    }
   ],
   "source": [
    "# Examples of arithmetic operators\n",
    "a = 21\n",
    "b = 10\n",
    "# Addition\n",
    "print (\"a + b : \", a + b)\n",
    "# Subtraction\n",
    "print (\"a - b : \", a - b)\n",
    "# Multiplication\n",
    "print (\"a * b : \", a * b)\n",
    "# Division\n",
    "print (\"a / b : \", a / b)\n",
    "# Modulus\n",
    "print (\"a % b : \", a % b)\n",
    "# Exponent\n",
    "print (\"a ** b : \", a ** b)\n",
    "# Floor Division\n",
    "print (\"a // b : \", a // b)"
   ]
  },
  {
   "cell_type": "code",
   "execution_count": 45,
   "id": "2b16fdf5-dcb3-46bb-a963-8276426e7282",
   "metadata": {},
   "outputs": [],
   "source": [
    "# Comparison Operators >>\n",
    "# To compare two values, Python comparison operators are needed.\n",
    "# Based on the comparison, they produce a Boolean value (True or False)."
   ]
  },
  {
   "cell_type": "code",
   "execution_count": 47,
   "id": "364f6d29-7603-4efc-bb06-fbaa892e07c9",
   "metadata": {},
   "outputs": [
    {
     "name": "stdout",
     "output_type": "stream",
     "text": [
      "a == b :  False\n",
      "a != b :  True\n",
      "a > b :  False\n",
      "a < b :  True\n",
      "a >= b :  False\n",
      "a <= b :  True\n"
     ]
    }
   ],
   "source": [
    "# Examples of comparison operators\n",
    "a = 4\n",
    "b = 5\n",
    "# Equal\n",
    "print (\"a == b : \", a == b)\n",
    "# Not Equal\n",
    "print (\"a != b : \", a != b)\n",
    "# Greater Than\n",
    "print (\"a > b : \", a > b)\n",
    "# Less Than\n",
    "print (\"a < b : \", a < b)\n",
    "# Greater Than or Equal to\n",
    "print (\"a >= b : \", a >= b)\n",
    "# Less Than or Equal to\n",
    "print (\"a <= b : \", a <= b)"
   ]
  },
  {
   "cell_type": "code",
   "execution_count": 49,
   "id": "5d3ce7ac-834d-4777-9a46-70bb1b233f05",
   "metadata": {},
   "outputs": [],
   "source": [
    "# Assignment Operators\n",
    "# Python assignment operators are used to assign values to variables in Python.\n",
    "# The single equal symbol (=) is the most fundamental assignment operator.\n",
    "# It assigns the value on the operator's right side to the variable on the operator's left side."
   ]
  },
  {
   "cell_type": "code",
   "execution_count": 51,
   "id": "2ad48e79-7f82-4d52-bab5-b467486b5256",
   "metadata": {},
   "outputs": [
    {
     "name": "stdout",
     "output_type": "stream",
     "text": [
      "a += 5 :  15\n",
      "a -= 5 :  10\n",
      "a *= 5 :  50\n",
      "a /= 5 :  10.0\n",
      "a %= 3 :  1.0\n",
      "a **= 2 :  1.0\n",
      "a //= 3 :  0.0\n"
     ]
    }
   ],
   "source": [
    "# Assignment Operator\n",
    "a = 10\n",
    "# Addition Assignment\n",
    "a += 5\n",
    "print (\"a += 5 : \", a)\n",
    "# Subtraction Assignment\n",
    "a -= 5\n",
    "print (\"a -= 5 : \", a)\n",
    "# Multiplication Assignment\n",
    "a *= 5\n",
    "print (\"a *= 5 : \", a)\n",
    "# Division Assignment\n",
    "a /= 5\n",
    "print (\"a /= 5 : \",a)\n",
    "# Remainder Assignment\n",
    "a %= 3\n",
    "print (\"a %= 3 : \", a)\n",
    "# Exponent Assignment\n",
    "a **= 2\n",
    "print (\"a **= 2 : \", a)\n",
    "# Floor Division Assignment\n",
    "a //= 3\n",
    "print (\"a //= 3 : \", a)"
   ]
  },
  {
   "cell_type": "code",
   "execution_count": 53,
   "id": "8c708acd-d4d8-4605-a205-8b0a3883604e",
   "metadata": {},
   "outputs": [],
   "source": [
    "# Bitwise Operators\n",
    "# Python bitwise operators execute operations on individual bits of binary integers.\n",
    "# They work with integer binary representations, performing logical operations on each bit location.\n",
    "# Python includes various bitwise operators, such as AND (&), OR (|), NOT (), XOR (), left shift (), and right shift (>>)."
   ]
  },
  {
   "cell_type": "code",
   "execution_count": 55,
   "id": "fefbd302-d0d3-4d92-9051-d03a61ea1e55",
   "metadata": {},
   "outputs": [
    {
     "name": "stdout",
     "output_type": "stream",
     "text": [
      "a & b :  12\n",
      "a | b :  61\n",
      "a ^ b :  49\n",
      "~a :  -61\n",
      "a << 2 :  240\n",
      "a >> 2 :  15\n"
     ]
    }
   ],
   "source": [
    "a = 60 # 60 = 0011 1100\n",
    "b = 13 # 13 = 0000 1101\n",
    "# Binary AND\n",
    "c = a & b # 12 = 0000 1100\n",
    "print (\"a & b : \", c)\n",
    "# Binary OR\n",
    "c = a | b # 61 = 0011 1101\n",
    "print (\"a | b : \", c)\n",
    "# Binary XOR\n",
    "c = a ^ b # 49 = 0011 0001\n",
    "print (\"a ^ b : \", c)\n",
    "# Binary Ones Complement\n",
    "c = ~a; # -61 = 1100 0011\n",
    "print (\"~a : \", c)\n",
    "# Binary Left Shift\n",
    "c = a << 2; # 240 = 1111 0000\n",
    "print (\"a << 2 : \", c)\n",
    "# Binary Right Shift\n",
    "c = a >> 2; # 15 = 0000 1111\n",
    "print (\"a >> 2 : \", c)"
   ]
  },
  {
   "cell_type": "code",
   "execution_count": 57,
   "id": "75dc08d1-8ef1-4a66-a810-6be4f97e8e4b",
   "metadata": {},
   "outputs": [],
   "source": [
    "# Logical Operators\n",
    "# Python logical operators are used to compose Boolean expressions and evaluate their truth values.\n",
    "# They are required for the creation of conditional statements as well as for managing the flow of execution in programs.\n",
    "# Python has three basic logical operators: AND, OR, and NOT."
   ]
  },
  {
   "cell_type": "code",
   "execution_count": 59,
   "id": "93dd71d1-3806-4756-9dc5-35f34e9db4d0",
   "metadata": {},
   "outputs": [
    {
     "name": "stdout",
     "output_type": "stream",
     "text": [
      "Both x and y are within the specified range\n"
     ]
    }
   ],
   "source": [
    "x = 5\n",
    "y = 10\n",
    "if x > 3 and y < 15:\n",
    "  print(\"Both x and y are within the specified range\")"
   ]
  },
  {
   "cell_type": "code",
   "execution_count": 61,
   "id": "068e9ca2-3d6f-4a2e-b834-bc560261a801",
   "metadata": {},
   "outputs": [],
   "source": [
    "# Membership Operators\n",
    "# Python membership operators are used to determine whether or not a certain value occurs within a sequence.\n",
    "# They make it simple to determine the membership of elements in various Python data structures such as lists, tuples, sets, and strings.\n",
    "# Python has two primary membership operators: the in and not in operators."
   ]
  },
  {
   "cell_type": "code",
   "execution_count": 63,
   "id": "64f60ac2-a06e-4361-8039-316cf81e7b7a",
   "metadata": {},
   "outputs": [
    {
     "name": "stdout",
     "output_type": "stream",
     "text": [
      "Yes, banana is a fruit!\n"
     ]
    }
   ],
   "source": [
    "fruits = [\"apple\", \"banana\", \"cherry\"]\n",
    "if \"banana\" in fruits:\n",
    "    print(\"Yes, banana is a fruit!\")\n",
    "else:\n",
    "    print(\"No, banana is not a fruit!\")"
   ]
  },
  {
   "cell_type": "code",
   "execution_count": 65,
   "id": "d1c94bcf-0ada-4cf4-81ff-9e63ccb45881",
   "metadata": {},
   "outputs": [],
   "source": [
    "# Identity Operators\n",
    "# Python identity operators are used to compare two objects' memory addresses rather than their values.\n",
    "# If the two objects refer to the same memory address, they evaluate to True; otherwise, they evaluate to False.\n",
    "# Python includes two identity operators: the is and is not operators."
   ]
  },
  {
   "cell_type": "code",
   "execution_count": 69,
   "id": "4a691149-d34c-4d76-b363-d149af3687e5",
   "metadata": {},
   "outputs": [
    {
     "name": "stdout",
     "output_type": "stream",
     "text": [
      "x and y are not the same object\n"
     ]
    }
   ],
   "source": [
    "x = 10\n",
    "y = 5\n",
    "if x is y:\n",
    "    print(\"x and y are the same object\")\n",
    "else:\n",
    "    print(\"x and y are not the same object\")"
   ]
  },
  {
   "cell_type": "markdown",
   "id": "e7ef4b7f-1317-4c61-b67c-c0e4b4410b1e",
   "metadata": {},
   "source": [
    "### Explain the concept of type casting in python? Illustrate with examples."
   ]
  },
  {
   "cell_type": "code",
   "execution_count": 72,
   "id": "d7c1bb74-81e4-49d6-98cb-8138fa8087e4",
   "metadata": {},
   "outputs": [],
   "source": [
    "# Type Casting is the method to convert the Python variable datatype into a certain data type in order to perform the required operation by users.\n",
    "# There can be two types of Type Casting in Python:>>\n",
    "# Python Implicit Type Conversion >> This happens when the language automatically changes one data type into another to perform some operation. This is done by the compiler or interpreter without any code notation, and is often invisible to the user.\n",
    "# Python Explicit Type Conversion >> This requires the programmer to write code that instructs the compiler or interpreter to make a specific conversion. This is visible in the source code and is done intentionally by the programmer."
   ]
  },
  {
   "cell_type": "code",
   "execution_count": 74,
   "id": "47357c3b-1ab6-4bbf-83c8-0752e4136195",
   "metadata": {},
   "outputs": [
    {
     "name": "stdout",
     "output_type": "stream",
     "text": [
      "<class 'int'>\n",
      "<class 'float'>\n",
      "10.0\n",
      "<class 'float'>\n",
      "21.0\n",
      "<class 'float'>\n"
     ]
    }
   ],
   "source": [
    "# implicit type Casting \n",
    "\n",
    "# Python automatically converts \n",
    "# a to int \n",
    "a = 7\n",
    "print(type(a)) \n",
    "\n",
    "# Python automatically converts \n",
    "# b to float \n",
    "b = 3.0\n",
    "print(type(b)) \n",
    "\n",
    "# Python automatically converts \n",
    "# c to float as it is a float addition \n",
    "c = a + b \n",
    "print(c) \n",
    "print(type(c))\n",
    "\n",
    "# Python automatically converts \n",
    "# d to float as it is a float multiplication\n",
    "d = a * b\n",
    "print(d)\n",
    "print(type(d))"
   ]
  },
  {
   "cell_type": "code",
   "execution_count": 76,
   "id": "b565340f-ecbc-4f28-8d69-977e2d059e90",
   "metadata": {},
   "outputs": [
    {
     "name": "stdout",
     "output_type": "stream",
     "text": [
      "5.0\n",
      "<class 'float'>\n"
     ]
    }
   ],
   "source": [
    "# Explicit type Casting \n",
    "\n",
    "# int variable\n",
    "a = 5\n",
    "\n",
    "# typecast to float\n",
    "n = float(a)\n",
    "\n",
    "print(n)\n",
    "print(type(n))"
   ]
  },
  {
   "cell_type": "code",
   "execution_count": 78,
   "id": "96c7c980-3e03-4bdf-9126-fdc1f3ae372e",
   "metadata": {},
   "outputs": [
    {
     "name": "stdout",
     "output_type": "stream",
     "text": [
      "5\n",
      "<class 'str'>\n"
     ]
    }
   ],
   "source": [
    "# int variable\n",
    "a = 5\n",
    "\n",
    "# typecast to string\n",
    "n = str(a)\n",
    "\n",
    "print(n)\n",
    "print(type(n))"
   ]
  },
  {
   "cell_type": "code",
   "execution_count": 80,
   "id": "09091fd5-e221-408b-b783-69662ee90dc7",
   "metadata": {},
   "outputs": [
    {
     "name": "stdout",
     "output_type": "stream",
     "text": [
      "5\n",
      "<class 'int'>\n"
     ]
    }
   ],
   "source": [
    "# int variable\n",
    "a = 5.0\n",
    "\n",
    "# typecast to integer\n",
    "n = int(a)\n",
    "\n",
    "print(n)\n",
    "print(type(n))"
   ]
  },
  {
   "cell_type": "markdown",
   "id": "eabebd32-0ea3-4dd3-b549-10a8f5c999c5",
   "metadata": {},
   "source": [
    "### How to conditional statement work in python? illustrate with examples"
   ]
  },
  {
   "cell_type": "code",
   "execution_count": 83,
   "id": "b3a2fac2-98fd-4937-9409-8c33c14a9bd4",
   "metadata": {},
   "outputs": [],
   "source": [
    "# Conditionals in Python are used to execute code based on the evaluation of one or more conditions.\n",
    "# Python supports conditional statements such as if, elif (else if), and else to control the flow of execution.\n",
    "# Conditionals can be nested to handle multiple conditions and control different branches of execution based on the outcome of logical expressions.\n"
   ]
  },
  {
   "cell_type": "code",
   "execution_count": 85,
   "id": "3548eb7a-2e2e-4129-aac7-7f2846bfe9ca",
   "metadata": {},
   "outputs": [
    {
     "name": "stdout",
     "output_type": "stream",
     "text": [
      "A is less than 5\n"
     ]
    }
   ],
   "source": [
    "a=3\n",
    "if a > 5: # here it is a condition if this condition is true then it print  A is grater than 5 but in condition is not true then it print A is less than 5\n",
    "    print(\"A is grater than 5\")\n",
    "else:\n",
    "    print(\"A is less than 5\") "
   ]
  },
  {
   "cell_type": "code",
   "execution_count": 87,
   "id": "0ff37269-9ff1-42ea-b605-005798525b46",
   "metadata": {},
   "outputs": [
    {
     "name": "stdout",
     "output_type": "stream",
     "text": [
      "Negative number\n",
      "This statement is always executed\n"
     ]
    }
   ],
   "source": [
    "# one another example of conditional statement\n",
    "number = -5\n",
    "\n",
    "if number > 0:\n",
    "    print('Positive number')\n",
    "\n",
    "elif number < 0:\n",
    "    print('Negative number')\n",
    "\n",
    "else:\n",
    "    print('Zero')\n",
    "\n",
    "print('This statement is always executed')"
   ]
  },
  {
   "cell_type": "markdown",
   "id": "ef885a37-dff4-4f1e-9b50-44bd9a1e1ab3",
   "metadata": {},
   "source": [
    "### Describe the different types of loop in python and their use cases with example"
   ]
  },
  {
   "cell_type": "code",
   "execution_count": 90,
   "id": "f2c8dfba-d97f-4668-90d1-b009fe943abe",
   "metadata": {},
   "outputs": [],
   "source": [
    "# In Python, loops are employed to repeat a sequence of actions or code until a specific condition is fulfilled. \n",
    "# Python offers two primary types of loops: for loops and while loops. \n",
    "# “for” loops are used for iterating over a sequence of elements, while “while” loops are used for executing code until a specified condition becomes False\n"
   ]
  },
  {
   "cell_type": "code",
   "execution_count": 114,
   "id": "55624ee5-0c2f-40b7-a683-80787c64472c",
   "metadata": {},
   "outputs": [
    {
     "name": "stdout",
     "output_type": "stream",
     "text": [
      "Total = 176\n"
     ]
    }
   ],
   "source": [
    "# this is for loop. >> The for loop in Python provides the ability to loop over the items of any sequence, such as a list, tuple or a string. It performs the same action on each item of the sequence.\n",
    "numbers = (34,54,67,21)\n",
    "total = 0\n",
    "for num in numbers:\n",
    "   total += num\n",
    "print (\"Total =\", total)"
   ]
  },
  {
   "cell_type": "code",
   "execution_count": 127,
   "id": "00f675e5-f3fd-4cdb-85c2-d9af03edd0b9",
   "metadata": {},
   "outputs": [
    {
     "name": "stdout",
     "output_type": "stream",
     "text": [
      "1\n",
      "3\n",
      "5\n",
      "7\n",
      "9\n"
     ]
    }
   ],
   "source": [
    "# loop with continue\n",
    "for x in range(10):\n",
    "    # Check if x is even\n",
    "    if x % 2 == 0:\n",
    "        continue\n",
    "    print(x)"
   ]
  },
  {
   "cell_type": "code",
   "execution_count": 135,
   "id": "c1c7c97b-ae72-4d51-b3c0-3eb064dfd9b7",
   "metadata": {},
   "outputs": [
    {
     "name": "stdout",
     "output_type": "stream",
     "text": [
      "0\n",
      "1\n",
      "2\n",
      "3\n",
      "4\n",
      "5\n"
     ]
    }
   ],
   "source": [
    "# loop with break\n",
    "for x in range(10):\n",
    "    # Check if x is even\n",
    "    if x > 5:\n",
    "        break\n",
    "    print(x)"
   ]
  },
  {
   "cell_type": "code",
   "execution_count": 143,
   "id": "44ec81c0-5bb4-4cfc-b341-789c4b8431a9",
   "metadata": {},
   "outputs": [
    {
     "name": "stdout",
     "output_type": "stream",
     "text": [
      "The count is: 0\n",
      "The count is: 1\n",
      "The count is: 2\n",
      "The count is: 3\n",
      "The count is: 4\n",
      "Well Done !!!\n"
     ]
    }
   ],
   "source": [
    "# while loop\n",
    "count = 0\n",
    "while (count < 5):\n",
    " print ('The count is:', count)\n",
    " count = count + 1\n",
    "print (\"Well Done !!!\")"
   ]
  },
  {
   "cell_type": "code",
   "execution_count": 145,
   "id": "9460b34c-70b9-463e-a00b-1a21fe777ae2",
   "metadata": {},
   "outputs": [
    {
     "name": "stdout",
     "output_type": "stream",
     "text": [
      "0\n",
      "1\n",
      "2\n"
     ]
    }
   ],
   "source": [
    "# while loop with break\n",
    "count = 0\n",
    "while count < 5:\n",
    "    print (count)\n",
    "    count += 1\n",
    "    if count == 3:\n",
    "        break"
   ]
  },
  {
   "cell_type": "code",
   "execution_count": 161,
   "id": "d1572260-1a13-4ddf-b608-9a3a61bb9eea",
   "metadata": {},
   "outputs": [
    {
     "name": "stdout",
     "output_type": "stream",
     "text": [
      "0\n",
      "1\n",
      "2\n",
      "3\n",
      "4\n",
      "5\n",
      "6\n",
      "7\n",
      "8\n",
      "9\n"
     ]
    }
   ],
   "source": [
    "# while loop with continue\n",
    "count = 0\n",
    "while count < 5:\n",
    "    print (count)\n",
    "    count += 1\n",
    "    if count == 3:\n",
    "        continue\n",
    "   "
   ]
  },
  {
   "cell_type": "code",
   "execution_count": null,
   "id": "6906543d-1636-4a42-99d6-42968f6bcef3",
   "metadata": {},
   "outputs": [],
   "source": []
  }
 ],
 "metadata": {
  "kernelspec": {
   "display_name": "Python 3 (ipykernel)",
   "language": "python",
   "name": "python3"
  },
  "language_info": {
   "codemirror_mode": {
    "name": "ipython",
    "version": 3
   },
   "file_extension": ".py",
   "mimetype": "text/x-python",
   "name": "python",
   "nbconvert_exporter": "python",
   "pygments_lexer": "ipython3",
   "version": "3.12.4"
  }
 },
 "nbformat": 4,
 "nbformat_minor": 5
}
